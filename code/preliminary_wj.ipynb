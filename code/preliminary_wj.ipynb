{
 "cells": [
  {
   "cell_type": "code",
   "execution_count": 1,
   "id": "f528207d",
   "metadata": {},
   "outputs": [
    {
     "data": {
      "application/javascript": [
       "\n",
       "IPython.tab_as_tab_everywhere = function(use_tabs) {\n",
       "    if (use_tabs === undefined) {\n",
       "        use_tabs = true; \n",
       "    }\n",
       "\n",
       "    // apply setting to all current CodeMirror instances\n",
       "    IPython.notebook.get_cells().map(\n",
       "        function(c) {  return c.code_mirror.options.indentWithTabs=use_tabs;  }\n",
       "    );\n",
       "    // make sure new CodeMirror instances created in the future also use this setting\n",
       "    CodeMirror.defaults.indentWithTabs=use_tabs;\n",
       "\n",
       "    };\n",
       "\n",
       "IPython.tab_as_tab_everywhere()\n"
      ],
      "text/plain": [
       "<IPython.core.display.Javascript object>"
      ]
     },
     "metadata": {},
     "output_type": "display_data"
    }
   ],
   "source": [
    "%%javascript\n",
    "\n",
    "IPython.tab_as_tab_everywhere = function(use_tabs) {\n",
    "    if (use_tabs === undefined) {\n",
    "        use_tabs = true; \n",
    "    }\n",
    "\n",
    "    // apply setting to all current CodeMirror instances\n",
    "    IPython.notebook.get_cells().map(\n",
    "        function(c) {  return c.code_mirror.options.indentWithTabs=use_tabs;  }\n",
    "    );\n",
    "    // make sure new CodeMirror instances created in the future also use this setting\n",
    "    CodeMirror.defaults.indentWithTabs=use_tabs;\n",
    "\n",
    "    };\n",
    "\n",
    "IPython.tab_as_tab_everywhere()"
   ]
  },
  {
   "cell_type": "code",
   "execution_count": 89,
   "id": "30578cbe",
   "metadata": {},
   "outputs": [],
   "source": [
    "import mnist_decoder as md\n",
    "from helper import *\n",
    "import numpy as np\n",
    "import pickle\n",
    "import random\n",
    "\n",
    "from sklearn import svm\n",
    "from sklearn.ensemble import RandomForestClassifier, AdaBoostClassifier, BaggingClassifier\n",
    "from sklearn.linear_model import SGDClassifier, Perceptron\n",
    "from sklearn.preprocessing import StandardScaler\n",
    "from sklearn.pipeline import make_pipeline"
   ]
  },
  {
   "cell_type": "code",
   "execution_count": 3,
   "id": "fdd95b7a",
   "metadata": {},
   "outputs": [],
   "source": [
    "train_images_ = md.get_images(\"../data/train-images-idx3-ubyte.gz\")\n",
    "train_labels_ = md.get_labels(\"../data/train-labels-idx1-ubyte.gz\")\n",
    "test_images_ = md.get_images(\"../data/t10k-images-idx3-ubyte.gz\")\n",
    "test_labels_ = md.get_labels(\"../data/t10k-labels-idx1-ubyte.gz\")"
   ]
  },
  {
   "cell_type": "code",
   "execution_count": 40,
   "id": "f4abca52",
   "metadata": {},
   "outputs": [],
   "source": [
    "def image_to_feature_imageVec(images, labels):\n",
    "\tif images.shape[0] != labels.shape[0]:\n",
    "\t\tprint(\"error: the number of samples is different from the number of labels\")\n",
    "\t\treturn\n",
    "\n",
    "\tn = images.shape[0]\n",
    "\n",
    "\tdata_set = []\n",
    "\n",
    "\tfor i in range(n):\n",
    "\t\timage = images[i, :, :]\n",
    "\t\tlabel = labels[i]\n",
    "\t\t\n",
    "\t\timage_rescaled = image.reshape(784)\n",
    "\t\t\n",
    "\t\ttmp_list = np.concatenate( ([label], image_rescaled) )\n",
    "\t\tdata_set.append(tmp_list)\n",
    "\n",
    "\treturn np.array(data_set)[:, 1:], np.array(data_set)[:, 0]"
   ]
  },
  {
   "cell_type": "code",
   "execution_count": 13,
   "id": "16ae33e7",
   "metadata": {},
   "outputs": [],
   "source": [
    "random.seed(20220319)\n",
    "sp_idx_train = random.sample(range(60000), 6000)\n",
    "sp_idx_test = random.sample(range(10000), 1000)"
   ]
  },
  {
   "cell_type": "code",
   "execution_count": 14,
   "id": "38050830",
   "metadata": {},
   "outputs": [],
   "source": [
    "# subset\n",
    "train_images = train_images_[sp_idx_train]\n",
    "train_labels = train_labels_[sp_idx_train]\n",
    "test_images = test_images_[sp_idx_test]\n",
    "test_labels = test_labels_[sp_idx_test]"
   ]
  },
  {
   "cell_type": "markdown",
   "id": "488eb2fd",
   "metadata": {},
   "source": [
    "#### image vec feature"
   ]
  },
  {
   "cell_type": "code",
   "execution_count": 94,
   "id": "2990e82e",
   "metadata": {},
   "outputs": [],
   "source": [
    "train_X, train_y = image_to_feature_imageVec(train_images, train_labels)\n",
    "test_X, test_y = image_to_feature_imageVec(test_images, test_labels)"
   ]
  },
  {
   "cell_type": "markdown",
   "id": "20670821",
   "metadata": {},
   "source": [
    "#### three-feature vec"
   ]
  },
  {
   "cell_type": "code",
   "execution_count": 80,
   "id": "8fc53cc9",
   "metadata": {},
   "outputs": [],
   "source": [
    "train_X, train_y = image_to_feature(train_images, train_labels)\n",
    "test_X, test_y = image_to_feature(test_images, test_labels)"
   ]
  },
  {
   "cell_type": "markdown",
   "id": "8987c6f0",
   "metadata": {},
   "source": [
    "#### show image"
   ]
  },
  {
   "cell_type": "code",
   "execution_count": null,
   "id": "8259887d",
   "metadata": {},
   "outputs": [],
   "source": [
    "plt.imshow(train_images[2,:,:])"
   ]
  },
  {
   "cell_type": "markdown",
   "id": "89fef2c0",
   "metadata": {},
   "source": [
    "### check if the classes are balanced"
   ]
  },
  {
   "cell_type": "code",
   "execution_count": 17,
   "id": "1093ca14",
   "metadata": {},
   "outputs": [
    {
     "data": {
      "text/plain": [
       "{5.0: 92,\n",
       " 2.0: 102,\n",
       " 0.0: 91,\n",
       " 6.0: 104,\n",
       " 4.0: 89,\n",
       " 8.0: 97,\n",
       " 9.0: 114,\n",
       " 3.0: 106,\n",
       " 7.0: 90,\n",
       " 1.0: 115}"
      ]
     },
     "execution_count": 17,
     "metadata": {},
     "output_type": "execute_result"
    }
   ],
   "source": [
    "ys = {}\n",
    "\n",
    "for y in test_y:\n",
    "    ys[y] = ys.get(y, 0) + 1\n",
    "\n",
    "ys"
   ]
  },
  {
   "cell_type": "markdown",
   "id": "21a2432e",
   "metadata": {},
   "source": [
    "## Base models"
   ]
  },
  {
   "cell_type": "markdown",
   "id": "0b39bf5a",
   "metadata": {},
   "source": [
    "### fit the SVM model"
   ]
  },
  {
   "cell_type": "code",
   "execution_count": 118,
   "id": "3d89b201",
   "metadata": {},
   "outputs": [
    {
     "data": {
      "text/plain": [
       "0.954"
      ]
     },
     "execution_count": 118,
     "metadata": {},
     "output_type": "execute_result"
    }
   ],
   "source": [
    "clf = svm.SVC(decision_function_shape='ovr')\n",
    "\n",
    "clf.fit(train_X, train_y)\n",
    "\n",
    "# clf.score(test_X, test_y) # 0.954"
   ]
  },
  {
   "cell_type": "code",
   "execution_count": 122,
   "id": "3d40a130",
   "metadata": {},
   "outputs": [
    {
     "data": {
      "text/plain": [
       "(0.987, 0.954)"
      ]
     },
     "execution_count": 122,
     "metadata": {},
     "output_type": "execute_result"
    }
   ],
   "source": [
    "(clf.score(train_X, train_y), clf.score(test_X, test_y)) # (0.987, 0.954)"
   ]
  },
  {
   "cell_type": "markdown",
   "id": "32784b96",
   "metadata": {},
   "source": [
    "### fit the random forest model"
   ]
  },
  {
   "cell_type": "code",
   "execution_count": null,
   "id": "f50cbbff",
   "metadata": {},
   "outputs": [],
   "source": [
    "clfrf = RandomForestClassifier(random_state=5)\n",
    "\n",
    "clfrf.fit(train_X, train_y)"
   ]
  },
  {
   "cell_type": "code",
   "execution_count": 123,
   "id": "1bd2344e",
   "metadata": {},
   "outputs": [
    {
     "data": {
      "text/plain": [
       "(1.0, 0.943)"
      ]
     },
     "execution_count": 123,
     "metadata": {},
     "output_type": "execute_result"
    }
   ],
   "source": [
    "(clfrf.score(train_X, train_y), clfrf.score(test_X, test_y)) # (1.0, 0.943)"
   ]
  },
  {
   "cell_type": "markdown",
   "id": "a70c034b",
   "metadata": {},
   "source": [
    "### scaler and SGDClassifier"
   ]
  },
  {
   "cell_type": "code",
   "execution_count": 99,
   "id": "0de23f44",
   "metadata": {},
   "outputs": [],
   "source": [
    "scaler = StandardScaler()\n",
    "train_X_scaled = scaler.fit_transform(train_X)\n",
    "test_X_scaled = scaler.transform(test_X)"
   ]
  },
  {
   "cell_type": "code",
   "execution_count": null,
   "id": "48dbd51e",
   "metadata": {},
   "outputs": [],
   "source": [
    "clf_perceptron = Perceptron()\n",
    "clf_perceptron.fit(train_X, train_y)"
   ]
  },
  {
   "cell_type": "code",
   "execution_count": 124,
   "id": "be28cdcc",
   "metadata": {},
   "outputs": [
    {
     "data": {
      "text/plain": [
       "(0.9048333333333334, 0.821)"
      ]
     },
     "execution_count": 124,
     "metadata": {},
     "output_type": "execute_result"
    }
   ],
   "source": [
    "(clf_perceptron.score(train_X, train_y), clf_perceptron.score(test_X, test_y)) # (0.9048333333333334, 0.821)"
   ]
  },
  {
   "cell_type": "code",
   "execution_count": null,
   "id": "7dbdd173",
   "metadata": {},
   "outputs": [],
   "source": [
    "clf_perceptron = Perceptron()\n",
    "clf_perceptron.fit(train_X_scaled, train_y)"
   ]
  },
  {
   "cell_type": "code",
   "execution_count": 125,
   "id": "8d1701e4",
   "metadata": {},
   "outputs": [
    {
     "data": {
      "text/plain": [
       "(0.8665, 0.812)"
      ]
     },
     "execution_count": 125,
     "metadata": {},
     "output_type": "execute_result"
    }
   ],
   "source": [
    "(clf_perceptron.score(train_X_scaled, train_y), clf_perceptron.score(test_X_scaled, test_y)) # (0.8665, 0.812)"
   ]
  },
  {
   "cell_type": "markdown",
   "id": "8369ca48",
   "metadata": {},
   "source": [
    "## Boosting"
   ]
  },
  {
   "cell_type": "markdown",
   "id": "763fd969",
   "metadata": {},
   "source": [
    "### fit AdaBoost with random forest"
   ]
  },
  {
   "cell_type": "code",
   "execution_count": 136,
   "id": "451f63a2",
   "metadata": {},
   "outputs": [],
   "source": [
    "rf_ada = RandomForestClassifier()\n",
    "\n",
    "clf_ada_rf = AdaBoostClassifier(rf_ada, n_estimators=10, random_state=0).fit(train_X, train_y)"
   ]
  },
  {
   "cell_type": "code",
   "execution_count": 137,
   "id": "e265f845",
   "metadata": {},
   "outputs": [
    {
     "data": {
      "text/plain": [
       "(1.0, 0.933)"
      ]
     },
     "execution_count": 137,
     "metadata": {},
     "output_type": "execute_result"
    }
   ],
   "source": [
    "(clf_ada_rf.score(train_X, train_y), clf_ada_rf.score(test_X, test_y)) # (1.0, 0.933)"
   ]
  },
  {
   "cell_type": "markdown",
   "id": "5a2349f6",
   "metadata": {},
   "source": [
    "### fit adaBoost with svm\n",
    "This method is still buggy and takes very long time"
   ]
  },
  {
   "cell_type": "code",
   "execution_count": 69,
   "id": "c3b97ee6",
   "metadata": {},
   "outputs": [],
   "source": [
    "# svm_ada = svm.SVC(decision_function_shape='ovr')\n",
    "\n",
    "# clf_ada_svm = AdaBoostClassifier(\n",
    "# \tsvm_ada, \n",
    "# \tn_estimators=10, \n",
    "# \trandom_state=0, \n",
    "# \talgorithm='SAMME'\n",
    "# ).fit(train_X, train_y)\n",
    "\n",
    "# clf_ada_svm.score(test_X, test_y)"
   ]
  },
  {
   "cell_type": "markdown",
   "id": "303a1054",
   "metadata": {},
   "source": [
    "### fit adaBoost with Perceptron"
   ]
  },
  {
   "cell_type": "code",
   "execution_count": 138,
   "id": "d23532df",
   "metadata": {},
   "outputs": [],
   "source": [
    "perceptron_ada = Perceptron()\n",
    "clf_ada_perceptron = AdaBoostClassifier(\n",
    "\tperceptron_ada, n_estimators=10, random_state=0, algorithm='SAMME'\n",
    ").fit(train_X_scaled, train_y)"
   ]
  },
  {
   "cell_type": "code",
   "execution_count": 139,
   "id": "ada44006",
   "metadata": {},
   "outputs": [
    {
     "data": {
      "text/plain": [
       "(0.9715, 0.855)"
      ]
     },
     "execution_count": 139,
     "metadata": {},
     "output_type": "execute_result"
    }
   ],
   "source": [
    "(clf_ada_perceptron.score(train_X_scaled, train_y), \n",
    " clf_ada_perceptron.score(test_X_scaled, test_y)) # (0.9886666666666667, 0.869)"
   ]
  },
  {
   "cell_type": "markdown",
   "id": "262f78dc",
   "metadata": {},
   "source": [
    "## Bagging"
   ]
  },
  {
   "cell_type": "markdown",
   "id": "35f46813",
   "metadata": {},
   "source": [
    "### bagging using random forest"
   ]
  },
  {
   "cell_type": "code",
   "execution_count": null,
   "id": "ad542798",
   "metadata": {},
   "outputs": [],
   "source": [
    "rf_bag = RandomForestClassifier()\n",
    "\n",
    "clf_bag_rf = BaggingClassifier(\n",
    "\trf_bag, n_estimators=10, random_state=0\n",
    ").fit(train_X, train_y)"
   ]
  },
  {
   "cell_type": "code",
   "execution_count": 133,
   "id": "ff6cabe0",
   "metadata": {},
   "outputs": [
    {
     "data": {
      "text/plain": [
       "(0.998, 0.935)"
      ]
     },
     "execution_count": 133,
     "metadata": {},
     "output_type": "execute_result"
    }
   ],
   "source": [
    "(clf_bag_rf.score(train_X, train_y), clf_bag_rf.score(test_X, test_y) ) # (0.998, 0.935)"
   ]
  },
  {
   "cell_type": "markdown",
   "id": "bd585900",
   "metadata": {},
   "source": [
    "### bagging using svm"
   ]
  },
  {
   "cell_type": "code",
   "execution_count": null,
   "id": "59a94398",
   "metadata": {},
   "outputs": [],
   "source": [
    "svm_bag = svm.SVC(decision_function_shape='ovr')\n",
    "\n",
    "clf_bag_svm = BaggingClassifier(\n",
    "\tsvm_bag, n_estimators=10, random_state=0\n",
    ").fit(train_X, train_y)"
   ]
  },
  {
   "cell_type": "code",
   "execution_count": 134,
   "id": "789286ef",
   "metadata": {},
   "outputs": [
    {
     "data": {
      "text/plain": [
       "(0.9826666666666667, 0.951)"
      ]
     },
     "execution_count": 134,
     "metadata": {},
     "output_type": "execute_result"
    }
   ],
   "source": [
    "(clf_bag_svm.score(train_X, train_y), clf_bag_svm.score(test_X, test_y)) # (0.9826666666666667, 0.951)"
   ]
  },
  {
   "cell_type": "markdown",
   "id": "c1aef863",
   "metadata": {},
   "source": [
    "### bagging with perceptron"
   ]
  },
  {
   "cell_type": "code",
   "execution_count": null,
   "id": "743eb79f",
   "metadata": {},
   "outputs": [],
   "source": [
    "ptron_bag = Perceptron()\n",
    "\n",
    "clf_bag_ptron = BaggingClassifier(\n",
    "\tptron_bag, n_estimators=10, random_state=0\n",
    ").fit(train_X, train_y)"
   ]
  },
  {
   "cell_type": "code",
   "execution_count": 135,
   "id": "a80f2fe0",
   "metadata": {},
   "outputs": [
    {
     "data": {
      "text/plain": [
       "(0.939, 0.887)"
      ]
     },
     "execution_count": 135,
     "metadata": {},
     "output_type": "execute_result"
    }
   ],
   "source": [
    "(clf_bag_ptron.score(train_X, train_y), clf_bag_ptron.score(test_X, test_y)) # (0.939, 0.887)"
   ]
  },
  {
   "cell_type": "markdown",
   "id": "ac4d3ae6",
   "metadata": {},
   "source": [
    "### save the fitted model"
   ]
  },
  {
   "cell_type": "code",
   "execution_count": null,
   "id": "e60714e5",
   "metadata": {},
   "outputs": [],
   "source": [
    "file_save_clf = open('default_parameter_svm.obj', 'wb')"
   ]
  },
  {
   "cell_type": "code",
   "execution_count": null,
   "id": "b5c26a58",
   "metadata": {},
   "outputs": [],
   "source": [
    "pickle.dump(clf, file_save_clf)"
   ]
  }
 ],
 "metadata": {
  "kernelspec": {
   "display_name": "Python 3 (ipykernel)",
   "language": "python",
   "name": "python3"
  },
  "language_info": {
   "codemirror_mode": {
    "name": "ipython",
    "version": 3
   },
   "file_extension": ".py",
   "mimetype": "text/x-python",
   "name": "python",
   "nbconvert_exporter": "python",
   "pygments_lexer": "ipython3",
   "version": "3.9.7"
  }
 },
 "nbformat": 4,
 "nbformat_minor": 5
}
