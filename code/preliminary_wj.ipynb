{
 "cells": [
  {
   "cell_type": "code",
   "execution_count": 1,
   "id": "30578cbe",
   "metadata": {},
   "outputs": [],
   "source": [
    "import mnist_decoder as md\n",
    "from helper import *\n",
    "import numpy as np\n",
    "\n",
    "from sklearn import svm\n",
    "import pickle\n",
    "\n",
    "import random"
   ]
  },
  {
   "cell_type": "code",
   "execution_count": 2,
   "id": "fdd95b7a",
   "metadata": {},
   "outputs": [],
   "source": [
    "train_images_ = md.get_images(\"../data/train-images-idx3-ubyte.gz\")\n",
    "train_labels_ = md.get_labels(\"../data/train-labels-idx1-ubyte.gz\")\n",
    "test_images_ = md.get_images(\"../data/t10k-images-idx3-ubyte.gz\")\n",
    "test_labels_ = md.get_labels(\"../data/t10k-labels-idx1-ubyte.gz\")"
   ]
  },
  {
   "cell_type": "code",
   "execution_count": 3,
   "id": "16ae33e7",
   "metadata": {},
   "outputs": [],
   "source": [
    "random.seed(20220319)\n",
    "sp_idx_train = random.sample(range(60000), 6000)\n",
    "sp_idx_test = random.sample(range(10000), 1000)"
   ]
  },
  {
   "cell_type": "code",
   "execution_count": 4,
   "id": "38050830",
   "metadata": {},
   "outputs": [],
   "source": [
    "# subset\n",
    "train_images = train_images_[sp_idx_train]\n",
    "train_labels = train_labels_[sp_idx_train]\n",
    "test_images = test_images_[sp_idx_test]\n",
    "test_labels = test_labels_[sp_idx_test]"
   ]
  },
  {
   "cell_type": "code",
   "execution_count": 5,
   "id": "8fc53cc9",
   "metadata": {},
   "outputs": [],
   "source": [
    "train_X, train_y = image_to_feature(train_images, train_labels)\n",
    "test_X, test_y = image_to_feature(test_images, test_labels)"
   ]
  },
  {
   "cell_type": "code",
   "execution_count": 14,
   "id": "a21ad214",
   "metadata": {},
   "outputs": [
    {
     "data": {
      "text/plain": [
       "(6000, 28, 28)"
      ]
     },
     "execution_count": 14,
     "metadata": {},
     "output_type": "execute_result"
    }
   ],
   "source": [
    "train_images.shape"
   ]
  },
  {
   "cell_type": "code",
   "execution_count": 18,
   "id": "46d11273",
   "metadata": {
    "scrolled": true
   },
   "outputs": [
    {
     "data": {
      "text/plain": [
       "array([  0,   0,   0,   0,   0,   0,   0,   0,   0,   0,   0,   0,   0,\n",
       "         0,   0,   0,   0,   0,   0,   0,   0,   0,   0,   0,   0,   0,\n",
       "         0,   0,   0,   0,   0,   0,   0,   0,   0,   0,   0,   0,   0,\n",
       "         0,   0,   0,   0,   0,   0,   0,   0,   0,   0,   0,   0,   0,\n",
       "         0,   0,   0,   0,   0,   0,   0,   0,   0,   0,   0,   0,   0,\n",
       "         0,   0,   0,   0,   0,   0,   0,   0,   0,   0,   0,   0,   0,\n",
       "         0,   0,   0,   0,   0,   0,   0,   0,   0,   0,   0,   0,   0,\n",
       "         0,   0,   0,   0,   0,   0,   0,   0,   0,   0,   0,   0,   0,\n",
       "         0,   0,   0,   0,   0,   0,   0,   0,   0,   0,   0,   0,   0,\n",
       "         0,   0,   0,   0,   0,   0,   0,   0,   0,   0,   0,   0,   0,\n",
       "         0,   0,   0,   0,   0,   0,   0,   0,   0,   0,   0,   0,   0,\n",
       "         0,   0,   0,   0,   0,   0,   0,   0,   0,   0,   0,   0,   0,\n",
       "         0,   0,   0,   0,   0,   0,   0,   0,   0,   0,   0,   0,   0,\n",
       "         0,   0,   0,   0,   0,   0,   0,   0,   0,   0,   0,   0,   0,\n",
       "         0,   0,   0,   0,   0,   0,   5,  47, 130, 161, 109,   0,   0,\n",
       "         0,   0,   0,   0,   0,   0,   0,   0,   0,   0,   0,  38,  25,\n",
       "         0,   0,   0,   0,  13,  70, 164, 184, 191, 252, 252, 252, 252,\n",
       "         0,   0,   0,   0,   0,   0,   0,   0,   0,   0,   0,   0,   0,\n",
       "       233, 185,   0,  34,  93, 155, 215, 252, 252, 252, 253, 252, 252,\n",
       "       218, 108,   0,   0,   0,   0,   0,   0,   0,   0,   0,   0,   0,\n",
       "         0,  53, 253, 248, 230, 238, 252, 253, 252, 252, 252, 147, 137,\n",
       "        64,  22,  14,   0,   0,   0,   0,   0,   0,   0,   0,   0,   0,\n",
       "         0,   0,  51, 243, 255, 253, 247, 230, 230, 168, 116,  32,   0,\n",
       "         0,   0,   0,   0,   0,   0,   0,   0,   0,   0,   0,   0,   0,\n",
       "         0,   0,   0,   0, 114, 252, 249, 132,  67,   0,   0,   0,   0,\n",
       "         0,   0,   0,   0,   0,   0,   0,   0,   0,   0,   0,   0,   0,\n",
       "         0,   0,   0,   0,   0,  19, 220, 252, 199,   0,   0,   0,   0,\n",
       "         0,   0,   0,   0,   0,   0,   0,   0,   0,   0,   0,   0,   0,\n",
       "         0,   0,   0,   0,   0,   0,   0, 112, 252, 252, 165,  93,  93,\n",
       "        93,  93,   0,   0,   0,   0,   0,   0,   0,   0,   0,   0,   0,\n",
       "         0,   0,   0,   0,   0,   0,   0,   0,   0, 184, 252, 252, 253,\n",
       "       252, 252, 252, 252, 231, 209,  84,   0,   0,   0,   0,   0,   0,\n",
       "         0,   0,   0,   0,   0,   0,   0,   0,   0,   0,   0, 174, 253,\n",
       "       253, 231, 230, 230, 230, 230, 255, 253, 253, 117,   3,   0,   0,\n",
       "         0,   0,   0,   0,   0,   0,   0,   0,   0,   0,   0,   0,   0,\n",
       "        25,  92,  92,   0,   0,   0,   0,   0, 103, 236, 252, 252,  22,\n",
       "         0,   0,   0,   0,   0,   0,   0,   0,   0,   0,   0,   0,   0,\n",
       "         0,   0,   0,   0,   0,   0,   0,   0,   0,   0,   0,  78, 252,\n",
       "       252,  75,   0,   0,   0,   0,   0,   0,   0,   0,   0,   0,   0,\n",
       "         0,   0,   9,  34,   0,   0,   0,   0,   0,   0,   0,   0,   9,\n",
       "       174, 252, 252,  22,   0,   0,   0,   0,   0,   0,   0,   0,   0,\n",
       "         0,   0,   0,   0, 181, 238, 146,  21,   0,   0,   0,   0,   0,\n",
       "         0, 181, 252, 252, 210,  12,   0,   0,   0,   0,   0,   0,   0,\n",
       "         0,   0,   0,   0,   0,   0, 181, 253, 253, 253, 253, 139,  65,\n",
       "        24,  66, 243, 255, 253, 205,  21,   0,   0,   0,   0,   0,   0,\n",
       "         0,   0,   0,   0,   0,   0,   0,   0,  19, 206, 206, 244, 252,\n",
       "       253, 252, 252, 252, 252, 228, 185,  25,   0,   0,   0,   0,   0,\n",
       "         0,   0,   0,   0,   0,   0,   0,   0,   0,   0,   0,   0,   0,\n",
       "        56, 121, 184, 215, 234, 195,  79,  32,   0,   0,   0,   0,   0,\n",
       "         0,   0,   0,   0,   0,   0,   0,   0,   0,   0,   0,   0,   0,\n",
       "         0,   0,   0,   0,   0,  21,  33,   9,   0,   0,   0,   0,   0,\n",
       "         0,   0,   0,   0,   0,   0,   0,   0,   0,   0,   0,   0,   0,\n",
       "         0,   0,   0,   0,   0,   0,   0,   0,   0,   0,   0,   0,   0,\n",
       "         0,   0,   0,   0,   0,   0,   0,   0,   0,   0,   0,   0,   0,\n",
       "         0,   0,   0,   0,   0,   0,   0,   0,   0,   0,   0,   0,   0,\n",
       "         0,   0,   0,   0,   0,   0,   0,   0,   0,   0,   0,   0,   0,\n",
       "         0,   0,   0,   0,   0,   0,   0,   0,   0,   0,   0,   0,   0,\n",
       "         0,   0,   0,   0,   0,   0,   0,   0,   0,   0,   0,   0,   0,\n",
       "         0,   0,   0,   0,   0,   0,   0,   0,   0,   0,   0,   0,   0,\n",
       "         0,   0,   0,   0,   0,   0,   0,   0,   0,   0,   0,   0,   0,\n",
       "         0,   0,   0,   0], dtype=uint8)"
      ]
     },
     "execution_count": 18,
     "metadata": {},
     "output_type": "execute_result"
    }
   ],
   "source": [
    "train_images[0,:,:].reshape(784)"
   ]
  },
  {
   "cell_type": "code",
   "execution_count": 16,
   "id": "8259887d",
   "metadata": {},
   "outputs": [
    {
     "data": {
      "text/plain": [
       "<matplotlib.image.AxesImage at 0x7fb54ef5a0a0>"
      ]
     },
     "execution_count": 16,
     "metadata": {},
     "output_type": "execute_result"
    },
    {
     "data": {
      "image/png": "[encoded data removed]",
      "text/plain": [
       "<Figure size 432x288 with 1 Axes>"
      ]
     },
     "metadata": {
      "needs_background": "light"
     },
     "output_type": "display_data"
    }
   ],
   "source": [
    "plt.imshow(train_images[2,:,:])"
   ]
  },
  {
   "cell_type": "markdown",
   "id": "89fef2c0",
   "metadata": {},
   "source": [
    "### check if the classes are balanced"
   ]
  },
  {
   "cell_type": "code",
   "execution_count": 8,
   "id": "1093ca14",
   "metadata": {},
   "outputs": [],
   "source": [
    "ys = {}\n",
    "\n",
    "for y in test_y:\n",
    "    ys[y] = ys.get(y, 0) + 1"
   ]
  },
  {
   "cell_type": "code",
   "execution_count": 9,
   "id": "16d8860a",
   "metadata": {},
   "outputs": [
    {
     "data": {
      "text/plain": [
       "{5.0: 92,\n",
       " 2.0: 102,\n",
       " 0.0: 91,\n",
       " 6.0: 104,\n",
       " 4.0: 89,\n",
       " 8.0: 97,\n",
       " 9.0: 114,\n",
       " 3.0: 106,\n",
       " 7.0: 90,\n",
       " 1.0: 115}"
      ]
     },
     "execution_count": 9,
     "metadata": {},
     "output_type": "execute_result"
    }
   ],
   "source": [
    "ys"
   ]
  },
  {
   "cell_type": "markdown",
   "id": "0b39bf5a",
   "metadata": {},
   "source": [
    "### fit the model"
   ]
  },
  {
   "cell_type": "code",
   "execution_count": 10,
   "id": "3d89b201",
   "metadata": {},
   "outputs": [],
   "source": [
    "clf = svm.SVC(decision_function_shape='ovr')"
   ]
  },
  {
   "cell_type": "code",
   "execution_count": 11,
   "id": "b66a10d4",
   "metadata": {},
   "outputs": [
    {
     "data": {
      "text/plain": [
       "SVC()"
      ]
     },
     "execution_count": 11,
     "metadata": {},
     "output_type": "execute_result"
    }
   ],
   "source": [
    "clf.fit(train_X, train_y)"
   ]
  },
  {
   "cell_type": "code",
   "execution_count": 12,
   "id": "8e51a711",
   "metadata": {},
   "outputs": [
    {
     "data": {
      "text/plain": [
       "0.346"
      ]
     },
     "execution_count": 12,
     "metadata": {},
     "output_type": "execute_result"
    }
   ],
   "source": [
    "clf.score(test_X, test_y)"
   ]
  },
  {
   "cell_type": "markdown",
   "id": "ac4d3ae6",
   "metadata": {},
   "source": [
    "### save the fitted model"
   ]
  },
  {
   "cell_type": "code",
   "execution_count": null,
   "id": "e60714e5",
   "metadata": {},
   "outputs": [],
   "source": [
    "file_save_clf = open('default_parameter_svm.obj', 'wb')"
   ]
  },
  {
   "cell_type": "code",
   "execution_count": null,
   "id": "b5c26a58",
   "metadata": {},
   "outputs": [],
   "source": [
    "pickle.dump(clf, file_save_clf)"
   ]
  },
  {
   "cell_type": "code",
   "execution_count": null,
   "id": "04ca4de1",
   "metadata": {},
   "outputs": [],
   "source": []
  }
 ],
 "metadata": {
  "kernelspec": {
   "display_name": "Python 3 (ipykernel)",
   "language": "python",
   "name": "python3"
  },
  "language_info": {
   "codemirror_mode": {
    "name": "ipython",
    "version": 3
   },
   "file_extension": ".py",
   "mimetype": "text/x-python",
   "name": "python",
   "nbconvert_exporter": "python",
   "pygments_lexer": "ipython3",
   "version": "3.9.7"
  }
 },
 "nbformat": 4,
 "nbformat_minor": 5
}
