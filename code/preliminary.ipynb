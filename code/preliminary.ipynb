{
 "cells": [
  {
   "cell_type": "code",
   "execution_count": 1,
   "id": "30578cbe",
   "metadata": {},
   "outputs": [],
   "source": [
    "import mnist_decoder as md\n",
    "from helper import *\n",
    "import numpy as np\n",
    "\n",
    "from sklearn import svm\n",
    "import pickle\n",
    "\n",
    "import random"
   ]
  },
  {
   "cell_type": "code",
   "execution_count": 2,
   "id": "fdd95b7a",
   "metadata": {},
   "outputs": [],
   "source": [
    "train_images_ = md.get_images(\"../data/train-images-idx3-ubyte.gz\")\n",
    "train_labels_ = md.get_labels(\"../data/train-labels-idx1-ubyte.gz\")\n",
    "test_images_ = md.get_images(\"../data/t10k-images-idx3-ubyte.gz\")\n",
    "test_labels_ = md.get_labels(\"../data/t10k-labels-idx1-ubyte.gz\")"
   ]
  },
  {
   "cell_type": "code",
   "execution_count": 3,
   "id": "16ae33e7",
   "metadata": {},
   "outputs": [],
   "source": [
    "random.seed(20220319)\n",
    "sp_idx_train = random.sample(range(60000), 6000)\n",
    "sp_idx_test = random.sample(range(10000), 1000)"
   ]
  },
  {
   "cell_type": "code",
   "execution_count": 4,
   "id": "38050830",
   "metadata": {},
   "outputs": [],
   "source": [
    "train_images = train_images_[sp_idx_train]\n",
    "train_labels = train_labels_[sp_idx_train]\n",
    "test_images = test_images_[sp_idx_test]\n",
    "test_labels = test_labels_[sp_idx_test]"
   ]
  },
  {
   "cell_type": "code",
   "execution_count": 5,
   "id": "8fc53cc9",
   "metadata": {},
   "outputs": [],
   "source": [
    "train_X, train_y = image_to_feature(train_images, train_labels)\n",
    "test_X, test_y = image_to_feature(test_images, test_labels)"
   ]
  },
  {
   "cell_type": "markdown",
   "id": "89fef2c0",
   "metadata": {},
   "source": [
    "### check if the classes are balanced"
   ]
  },
  {
   "cell_type": "code",
   "execution_count": 9,
   "id": "1093ca14",
   "metadata": {},
   "outputs": [],
   "source": [
    "ys = {}\n",
    "\n",
    "for y in test_y:\n",
    "    ys[y] = ys.get(y, 0) + 1"
   ]
  },
  {
   "cell_type": "markdown",
   "id": "0b39bf5a",
   "metadata": {},
   "source": [
    "### fit the model"
   ]
  },
  {
   "cell_type": "code",
   "execution_count": 11,
   "id": "3d89b201",
   "metadata": {},
   "outputs": [],
   "source": [
    "clf = svm.SVC(decision_function_shape='ovr')"
   ]
  },
  {
   "cell_type": "code",
   "execution_count": 12,
   "id": "b66a10d4",
   "metadata": {},
   "outputs": [
    {
     "data": {
      "text/plain": [
       "SVC()"
      ]
     },
     "execution_count": 12,
     "metadata": {},
     "output_type": "execute_result"
    }
   ],
   "source": [
    "clf.fit(train_X, train_y)"
   ]
  },
  {
   "cell_type": "code",
   "execution_count": 13,
   "id": "8e51a711",
   "metadata": {},
   "outputs": [
    {
     "data": {
      "text/plain": [
       "0.346"
      ]
     },
     "execution_count": 13,
     "metadata": {},
     "output_type": "execute_result"
    }
   ],
   "source": [
    "clf.score(test_X, test_y)"
   ]
  },
  {
   "cell_type": "markdown",
   "id": "ac4d3ae6",
   "metadata": {},
   "source": [
    "### save the fitted model"
   ]
  },
  {
   "cell_type": "code",
   "execution_count": null,
   "id": "e60714e5",
   "metadata": {},
   "outputs": [],
   "source": [
    "file_save_clf = open('default_parameter_svm.obj', 'wb')"
   ]
  },
  {
   "cell_type": "code",
   "execution_count": null,
   "id": "b5c26a58",
   "metadata": {},
   "outputs": [],
   "source": [
    "pickle.dump(clf, file_save_clf)"
   ]
  },
  {
   "cell_type": "code",
   "execution_count": null,
   "id": "04ca4de1",
   "metadata": {},
   "outputs": [],
   "source": []
  }
 ],
 "metadata": {
  "kernelspec": {
   "display_name": "Python 3 (ipykernel)",
   "language": "python",
   "name": "python3"
  },
  "language_info": {
   "codemirror_mode": {
    "name": "ipython",
    "version": 3
   },
   "file_extension": ".py",
   "mimetype": "text/x-python",
   "name": "python",
   "nbconvert_exporter": "python",
   "pygments_lexer": "ipython3",
   "version": "3.9.7"
  }
 },
 "nbformat": 4,
 "nbformat_minor": 5
}
